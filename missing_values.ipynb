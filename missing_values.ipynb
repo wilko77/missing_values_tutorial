{
 "cells": [
  {
   "cell_type": "code",
   "execution_count": 1,
   "metadata": {
    "pycharm": {
     "is_executing": false
    }
   },
   "outputs": [],
   "source": [
    "import os\n",
    "import pickle\n",
    "import random\n",
    "from functools import partial\n",
    "import pandas as pd\n",
    "import anonlink\n",
    "from clkhash.field_formats import *\n",
    "from clkhash.comparators import NgramComparison\n",
    "from clkhash import Schema\n",
    "from matplotlib import pyplot as plt\n",
    "\n",
    "from clk_based_comparison import generate_clks, pr_curve_from_clks\n",
    "from token_based_utils import tokenize_entities, sim_fun\n",
    "from eval_utils import compute_accuracies, load_true_matches\n",
    "from analysis import get_aucs"
   ]
  },
  {
   "cell_type": "code",
   "execution_count": 2,
   "metadata": {},
   "outputs": [],
   "source": [
    "DATA_DIR = 'data'\n",
    "MAX_SPARSENESS = 80  # up to 80% missing data\n",
    "SPARSENESS_STEP = 5  # in 5% steps"
   ]
  },
  {
   "cell_type": "markdown",
   "metadata": {},
   "source": [
    "# Exploration of how Anonlink handles missing data\n",
    "\n",
    "Anonlink uses CLKs for entity resolution.\n",
    "\n",
    "Although CLKs have been shown to work well for linkage on real world data, little work has been done to evaluate their resilience to missing data.\n",
    "\n",
    "A CLK is a composite Bloom filter, that is that for an entity record, all feature values are tokenized and then inserted into one Bloom filter in such a way that the similarity of two filters relates to the similarity of the corresponding entity records.\n",
    "\n",
    "The approach of combining all entity information into one representation can lead to problems when the entity information is incomplete. Consider the following scenario: \n",
    "\n",
    "```\n",
    "Dataset A: John | Doe | First Street | 24 |      |             | 0404123456 \n",
    "Dataset B: John | Doe |              | 24 | 1234 | Sunny Hills |\n",
    "```\n",
    "Those two records have three out of the seven features in common. This means that the corresponding composite Bloom filters each contain information from two features which is missing in the other filter. Thus, the comparison will procude a reduced similarity score.\n",
    "\n",
    "This raises an interesting question. Will the reduction in similarity scores have an impact on the linkage results? And if so, what is the relationship between data sparseness and linkage quality?\\\n",
    "We will try to answer those question with some experimentation."
   ]
  },
  {
   "cell_type": "markdown",
   "metadata": {},
   "source": [
    "### data creation\n",
    "We use the febrl tool to generate PII data. We create two pairs of base datasets, one where the entity records in the second dataset are identical to the first, if present, and in the second pair we introduce typical noise (like spelling mistakes).\n",
    "\n",
    "For both pairs of base datasets we then create a series of datasets where we control the sparseness. In 5% increments, we remove datapoints from both datasets, up to 80% missing data."
   ]
  },
  {
   "cell_type": "code",
   "execution_count": 14,
   "metadata": {},
   "outputs": [],
   "source": [
    "def sparsify_df(df, percentage, seed=None):\n",
    "    \"\"\"removes 'percentage' percent elements from dataframe 'df' \"\"\"\n",
    "    rows = df.shape[0]\n",
    "    cols = df.shape[1]\n",
    "    num_elements = rows * cols\n",
    "    num_to_remove = int(round(num_elements * percentage))\n",
    "    if seed is not None:\n",
    "        random.seed(seed)\n",
    "    rem = random.sample(range(num_elements), num_to_remove)\n",
    "    for i in rem:\n",
    "        row = i // cols\n",
    "        col = i % cols\n",
    "        df.iloc[row, col] = ''\n",
    "\n",
    "def load_datasets():\n",
    "    dfa = pd.read_csv(os.path.join(DATA_DIR, 'PII_A.csv'), index_col=0, skipinitialspace=True)\n",
    "    dfb_clean = pd.read_csv(os.path.join(DATA_DIR, 'PII_B_clean.csv'), index_col=0, skipinitialspace=True)\n",
    "    dfb_noisy = pd.read_csv(os.path.join(DATA_DIR, 'PII_B_noisy.csv'), index_col=0, skipinitialspace=True)\n",
    "    return dfa, dfb_clean, dfb_noisy\n",
    "\n",
    "def create_base_datasets():\n",
    "    dfa, dfb_clean, dfb_noisy = load_datasets()\n",
    "    noisy_path = os.path.join(DATA_DIR, 'noisy')\n",
    "    noisefree_path = os.path.join(DATA_DIR, 'noisefree')\n",
    "    os.makedirs(noisefree_path, exist_ok=True)\n",
    "    os.makedirs(noisy_path, exist_ok=True)\n",
    "    dfa.to_csv(os.path.join(noisy_path, '00_A.csv'))\n",
    "    dfb_noisy.to_csv(os.path.join(noisy_path, '00_B.csv'))\n",
    "    dfa.to_csv(os.path.join(noisefree_path, '00_A.csv'))\n",
    "    dfb_clean.to_csv(os.path.join(noisefree_path, '00_B.csv'))\n",
    "    \n",
    "    for sparsity in range(SPARSENESS_STEP, MAX_SPARSENESS+1, SPARSENESS_STEP):\n",
    "        print(f'creating datasets with {sparsity}% missing data...')\n",
    "        dfa, dfb_clean, dfb_noisy = load_datasets()\n",
    "        sparsify_df(dfa, sparsity/100)\n",
    "        dfa.to_csv(os.path.join(noisy_path, f'{sparsity:02}_A.csv'))\n",
    "        dfa.to_csv(os.path.join(noisefree_path, f'{sparsity:02}_A.csv'))\n",
    "        sparsify_df(dfb_noisy, sparsity / 100)\n",
    "        dfb_noisy.to_csv(os.path.join(noisy_path, f'{sparsity:02}_B.csv'))\n",
    "        sparsify_df(dfb_clean, sparsity/100)\n",
    "        dfb_clean.to_csv(os.path.join(noisefree_path, f'{sparsity:02}_B.csv'))"
   ]
  },
  {
   "cell_type": "code",
   "execution_count": 15,
   "metadata": {},
   "outputs": [
    {
     "name": "stdout",
     "output_type": "stream",
     "text": [
      "creating datasets with 5% missing data...\n",
      "creating datasets with 10% missing data...\n",
      "creating datasets with 15% missing data...\n",
      "creating datasets with 20% missing data...\n",
      "creating datasets with 25% missing data...\n",
      "creating datasets with 30% missing data...\n",
      "creating datasets with 35% missing data...\n",
      "creating datasets with 40% missing data...\n",
      "creating datasets with 45% missing data...\n",
      "creating datasets with 50% missing data...\n",
      "creating datasets with 55% missing data...\n",
      "creating datasets with 60% missing data...\n",
      "creating datasets with 65% missing data...\n",
      "creating datasets with 70% missing data...\n",
      "creating datasets with 75% missing data...\n",
      "creating datasets with 80% missing data...\n"
     ]
    }
   ],
   "source": [
    "create_base_datasets()"
   ]
  },
  {
   "cell_type": "markdown",
   "metadata": {},
   "source": [
    "## Linkage schema\n",
    "Clkhash support two different strategies to insert tokens into the Bloom filter:\n",
    "\n",
    "- BitsPerTokenStrategy: Insert every token *bitsPerToken* number of times.\n",
    "\n",
    "- BitsPerFeatureStrategy: Same number of insertions for each value of this feature, irrespective of the actual number of tokens. The number of filter insertions for a token is computed by dividing bitsPerFeature equally amongst the tokens.\n",
    "\n",
    "We will create CLKs for both strategies. "
   ]
  },
  {
   "cell_type": "code",
   "execution_count": 16,
   "metadata": {},
   "outputs": [],
   "source": [
    "clk_length = 1024\n",
    "\n",
    "fields = [\n",
    "    Ignore('id'),\n",
    "    StringSpec('given_name', FieldHashingProperties(comparator=NgramComparison(2), \n",
    "                                                    strategy=BitsPerTokenStrategy(8), \n",
    "                                                    missing_value=MissingValueSpec(sentinel=''))),\n",
    "    StringSpec('surname', FieldHashingProperties(comparator=NgramComparison(2), \n",
    "                                                 strategy=BitsPerTokenStrategy(8),\n",
    "                                                 missing_value=MissingValueSpec(sentinel=''))),\n",
    "    IntegerSpec('street_number', FieldHashingProperties(comparator=NgramComparison(1, positional=True), \n",
    "                                                        strategy=BitsPerTokenStrategy(8), \n",
    "                                                        missing_value=MissingValueSpec(sentinel=''))),\n",
    "    StringSpec('address_1', FieldHashingProperties(comparator=NgramComparison(2), \n",
    "                                                   strategy=BitsPerTokenStrategy(8), \n",
    "                                                   missing_value=MissingValueSpec(sentinel=''))),\n",
    "    StringSpec('address_2', FieldHashingProperties(comparator=NgramComparison(2), \n",
    "                                                   strategy=BitsPerTokenStrategy(8), \n",
    "                                                   missing_value=MissingValueSpec(sentinel=''))),\n",
    "    StringSpec('suburb', FieldHashingProperties(comparator=NgramComparison(2), \n",
    "                                                strategy=BitsPerTokenStrategy(8), \n",
    "                                                missing_value=MissingValueSpec(sentinel=''))),\n",
    "    IntegerSpec('postcode', FieldHashingProperties(comparator=NgramComparison(1, positional=True), \n",
    "                                                   strategy=BitsPerTokenStrategy(8), \n",
    "                                                   missing_value=MissingValueSpec(sentinel=''))),\n",
    "    StringSpec('state', FieldHashingProperties(comparator=NgramComparison(2), \n",
    "                                               strategy=BitsPerTokenStrategy(8), \n",
    "                                               missing_value=MissingValueSpec(sentinel=''))),\n",
    "    IntegerSpec('date_of_birth', FieldHashingProperties(comparator=NgramComparison(1, positional=True), \n",
    "                                                        strategy=BitsPerTokenStrategy(8), \n",
    "                                                        missing_value=MissingValueSpec(sentinel=''))),\n",
    "    StringSpec('phone_number', FieldHashingProperties(comparator=NgramComparison(1, positional=True), \n",
    "                                                      strategy=BitsPerTokenStrategy(8), \n",
    "                                                      missing_value=MissingValueSpec(sentinel=''))),\n",
    "    IntegerSpec('soc_sec_id', FieldHashingProperties(comparator=NgramComparison(1, positional=True), \n",
    "                                                     strategy=BitsPerTokenStrategy(8), \n",
    "                                                     missing_value=MissingValueSpec(sentinel='')))\n",
    "]\n",
    "\n",
    "fixed_k_schema = Schema(fields, clk_length)\n",
    "\n",
    "fields = [\n",
    "    Ignore('id'),\n",
    "    StringSpec('given_name', FieldHashingProperties(comparator=NgramComparison(2), \n",
    "                                                    strategy=BitsPerFeatureStrategy(60), \n",
    "                                                    missing_value=MissingValueSpec(sentinel=''))),\n",
    "    StringSpec('surname', FieldHashingProperties(comparator=NgramComparison(2), \n",
    "                                                 strategy=BitsPerFeatureStrategy(60), \n",
    "                                                 missing_value=MissingValueSpec(sentinel=''))),\n",
    "    IntegerSpec('street_number', FieldHashingProperties(comparator=NgramComparison(1, positional=True), \n",
    "                                                        strategy=BitsPerFeatureStrategy(60),  \n",
    "                                                        missing_value=MissingValueSpec(sentinel=''))),\n",
    "    StringSpec('address_1', FieldHashingProperties(comparator=NgramComparison(2), \n",
    "                                                   strategy=BitsPerFeatureStrategy(60),  \n",
    "                                                   missing_value=MissingValueSpec(sentinel=''))),\n",
    "    StringSpec('address_2', FieldHashingProperties(comparator=NgramComparison(2), \n",
    "                                                   strategy=BitsPerFeatureStrategy(60), \n",
    "                                                   missing_value=MissingValueSpec(sentinel=''))),\n",
    "    StringSpec('suburb', FieldHashingProperties(comparator=NgramComparison(2), \n",
    "                                                strategy=BitsPerFeatureStrategy(60), \n",
    "                                                missing_value=MissingValueSpec(sentinel=''))),\n",
    "    IntegerSpec('postcode', FieldHashingProperties(comparator=NgramComparison(1, positional=True), \n",
    "                                                   strategy=BitsPerFeatureStrategy(60), \n",
    "                                                   missing_value=MissingValueSpec(sentinel=''))),\n",
    "    StringSpec('state', FieldHashingProperties(comparator=NgramComparison(2), \n",
    "                                               strategy=BitsPerFeatureStrategy(60), \n",
    "                                               missing_value=MissingValueSpec(sentinel=''))),\n",
    "    IntegerSpec('date_of_birth', FieldHashingProperties(comparator=NgramComparison(1, positional=True), \n",
    "                                                        strategy=BitsPerFeatureStrategy(60), \n",
    "                                                        missing_value=MissingValueSpec(sentinel=''))),\n",
    "    StringSpec('phone_number', FieldHashingProperties(comparator=NgramComparison(1, positional=True), \n",
    "                                                      strategy=BitsPerFeatureStrategy(60), \n",
    "                                                      missing_value=MissingValueSpec(sentinel=''))),\n",
    "    IntegerSpec('soc_sec_id', FieldHashingProperties(comparator=NgramComparison(1, positional=True), \n",
    "                                                     strategy=BitsPerFeatureStrategy(60), \n",
    "                                                     missing_value=MissingValueSpec(sentinel='')))\n",
    "]\n",
    "\n",
    "var_k_schema = Schema(fields, clk_length)"
   ]
  },
  {
   "attachments": {},
   "cell_type": "markdown",
   "metadata": {},
   "source": [
    "## Baseline\n",
    "We will compare clkhash against two different baselines:\n",
    "\n",
    "### averaged token comparison per feature\n",
    "For this, we compare the tokens of each set of feature values sepeartely. This allows us to handle the case where a feature value is missing seperately to the case where all data is available.\n",
    "\n",
    "We compute the similarity for each pair of feature values, setting the similarity to zero if one of the values is missing. The similarity score is computed as the average of the non-zero similarity values. Finally, to favour scores with more non-zero similarity values, we introduce a penalty factor which increases with the number of features with missing data.\n",
    "\n",
    "![image.png](image.png)\n",
    "\n",
    "### comparisons of tokens of all features (composite)\n",
    "This is closer to CLKs. Here we produce all the tokens of a record combine them in a set. We then compute the similarity of the sets. So no detour to Bloom filters. \n",
    "This is interesting, as it is an upper bound of what composite Bloom filter based matching can achieve. "
   ]
  },
  {
   "cell_type": "code",
   "execution_count": 22,
   "metadata": {},
   "outputs": [
    {
     "name": "stdout",
     "output_type": "stream",
     "text": [
      "currently working on noisefree with 0% missing values\n",
      "tokenize entities...\n",
      "done\n",
      "generate candidate pairs with per_feature = True ...\n",
      "solve...\n",
      "generate candidate pairs with per_feature = False ...\n",
      "solve...\n",
      "currently working on noisefree with 5% missing values\n",
      "tokenize entities...\n",
      "done\n",
      "generate candidate pairs with per_feature = True ...\n",
      "solve...\n",
      "generate candidate pairs with per_feature = False ...\n",
      "solve...\n",
      "currently working on noisefree with 10% missing values\n",
      "tokenize entities...\n",
      "done\n",
      "generate candidate pairs with per_feature = True ...\n",
      "solve...\n",
      "generate candidate pairs with per_feature = False ...\n",
      "solve...\n",
      "currently working on noisefree with 15% missing values\n",
      "tokenize entities...\n",
      "done\n",
      "generate candidate pairs with per_feature = True ...\n",
      "solve...\n",
      "generate candidate pairs with per_feature = False ...\n",
      "solve...\n",
      "currently working on noisefree with 20% missing values\n",
      "tokenize entities...\n",
      "done\n",
      "generate candidate pairs with per_feature = True ...\n",
      "solve...\n",
      "generate candidate pairs with per_feature = False ...\n",
      "solve...\n",
      "currently working on noisefree with 25% missing values\n",
      "tokenize entities...\n",
      "done\n",
      "generate candidate pairs with per_feature = True ...\n",
      "solve...\n",
      "generate candidate pairs with per_feature = False ...\n",
      "solve...\n",
      "currently working on noisefree with 30% missing values\n",
      "tokenize entities...\n",
      "done\n",
      "generate candidate pairs with per_feature = True ...\n",
      "solve...\n",
      "generate candidate pairs with per_feature = False ...\n",
      "solve...\n",
      "currently working on noisefree with 35% missing values\n",
      "tokenize entities...\n",
      "done\n",
      "generate candidate pairs with per_feature = True ...\n",
      "solve...\n",
      "generate candidate pairs with per_feature = False ...\n",
      "solve...\n",
      "currently working on noisefree with 40% missing values\n",
      "tokenize entities...\n",
      "done\n",
      "generate candidate pairs with per_feature = True ...\n",
      "solve...\n",
      "generate candidate pairs with per_feature = False ...\n",
      "solve...\n",
      "currently working on noisefree with 45% missing values\n",
      "tokenize entities...\n",
      "done\n",
      "generate candidate pairs with per_feature = True ...\n",
      "solve...\n",
      "generate candidate pairs with per_feature = False ...\n",
      "solve...\n",
      "currently working on noisefree with 50% missing values\n",
      "tokenize entities...\n",
      "done\n",
      "generate candidate pairs with per_feature = True ...\n",
      "solve...\n",
      "generate candidate pairs with per_feature = False ...\n",
      "solve...\n",
      "currently working on noisefree with 55% missing values\n",
      "tokenize entities...\n",
      "done\n",
      "generate candidate pairs with per_feature = True ...\n",
      "solve...\n",
      "generate candidate pairs with per_feature = False ...\n",
      "solve...\n",
      "currently working on noisefree with 60% missing values\n",
      "tokenize entities...\n",
      "done\n",
      "generate candidate pairs with per_feature = True ...\n",
      "solve...\n",
      "generate candidate pairs with per_feature = False ...\n",
      "solve...\n",
      "currently working on noisefree with 65% missing values\n",
      "tokenize entities...\n",
      "done\n",
      "generate candidate pairs with per_feature = True ...\n",
      "solve...\n",
      "generate candidate pairs with per_feature = False ...\n",
      "solve...\n",
      "currently working on noisefree with 70% missing values\n",
      "tokenize entities...\n",
      "done\n",
      "generate candidate pairs with per_feature = True ...\n",
      "solve...\n",
      "generate candidate pairs with per_feature = False ...\n",
      "solve...\n",
      "currently working on noisefree with 75% missing values\n",
      "tokenize entities...\n",
      "done\n",
      "generate candidate pairs with per_feature = True ...\n",
      "solve...\n",
      "generate candidate pairs with per_feature = False ...\n",
      "solve...\n",
      "currently working on noisefree with 80% missing values\n",
      "tokenize entities...\n",
      "done\n",
      "generate candidate pairs with per_feature = True ...\n",
      "solve...\n",
      "generate candidate pairs with per_feature = False ...\n",
      "solve...\n",
      "currently working on noisy with 0% missing values\n",
      "tokenize entities...\n",
      "done\n",
      "generate candidate pairs with per_feature = True ...\n",
      "solve...\n",
      "generate candidate pairs with per_feature = False ...\n",
      "solve...\n",
      "currently working on noisy with 5% missing values\n",
      "tokenize entities...\n",
      "done\n",
      "generate candidate pairs with per_feature = True ...\n",
      "solve...\n",
      "generate candidate pairs with per_feature = False ...\n",
      "solve...\n",
      "currently working on noisy with 10% missing values\n",
      "tokenize entities...\n",
      "done\n",
      "generate candidate pairs with per_feature = True ...\n",
      "solve...\n",
      "generate candidate pairs with per_feature = False ...\n",
      "solve...\n",
      "currently working on noisy with 15% missing values\n",
      "tokenize entities...\n",
      "done\n",
      "generate candidate pairs with per_feature = True ...\n",
      "solve...\n",
      "generate candidate pairs with per_feature = False ...\n",
      "solve...\n",
      "currently working on noisy with 20% missing values\n",
      "tokenize entities...\n",
      "done\n",
      "generate candidate pairs with per_feature = True ...\n",
      "solve...\n",
      "generate candidate pairs with per_feature = False ...\n",
      "solve...\n",
      "currently working on noisy with 25% missing values\n",
      "tokenize entities...\n",
      "done\n",
      "generate candidate pairs with per_feature = True ...\n",
      "solve...\n",
      "generate candidate pairs with per_feature = False ...\n",
      "solve...\n",
      "currently working on noisy with 30% missing values\n",
      "tokenize entities...\n",
      "done\n",
      "generate candidate pairs with per_feature = True ...\n",
      "solve...\n",
      "generate candidate pairs with per_feature = False ...\n",
      "solve...\n",
      "currently working on noisy with 35% missing values\n",
      "tokenize entities...\n",
      "done\n",
      "generate candidate pairs with per_feature = True ...\n",
      "solve...\n",
      "generate candidate pairs with per_feature = False ...\n",
      "solve...\n",
      "currently working on noisy with 40% missing values\n",
      "tokenize entities...\n",
      "done\n",
      "generate candidate pairs with per_feature = True ...\n",
      "solve...\n",
      "generate candidate pairs with per_feature = False ...\n",
      "solve...\n",
      "currently working on noisy with 45% missing values\n",
      "tokenize entities...\n",
      "done\n",
      "generate candidate pairs with per_feature = True ...\n",
      "solve...\n",
      "generate candidate pairs with per_feature = False ...\n",
      "solve...\n",
      "currently working on noisy with 50% missing values\n",
      "tokenize entities...\n",
      "done\n",
      "generate candidate pairs with per_feature = True ...\n",
      "solve...\n",
      "generate candidate pairs with per_feature = False ...\n",
      "solve...\n",
      "currently working on noisy with 55% missing values\n",
      "tokenize entities...\n",
      "done\n",
      "generate candidate pairs with per_feature = True ...\n",
      "solve...\n",
      "generate candidate pairs with per_feature = False ...\n",
      "solve...\n",
      "currently working on noisy with 60% missing values\n",
      "tokenize entities...\n",
      "done\n",
      "generate candidate pairs with per_feature = True ...\n",
      "solve...\n",
      "generate candidate pairs with per_feature = False ...\n",
      "solve...\n",
      "currently working on noisy with 65% missing values\n",
      "tokenize entities...\n",
      "done\n",
      "generate candidate pairs with per_feature = True ...\n",
      "solve...\n",
      "generate candidate pairs with per_feature = False ...\n",
      "solve...\n",
      "currently working on noisy with 70% missing values\n",
      "tokenize entities...\n",
      "done\n",
      "generate candidate pairs with per_feature = True ...\n",
      "solve...\n",
      "generate candidate pairs with per_feature = False ...\n",
      "solve...\n",
      "currently working on noisy with 75% missing values\n",
      "tokenize entities...\n",
      "done\n",
      "generate candidate pairs with per_feature = True ...\n",
      "solve...\n",
      "generate candidate pairs with per_feature = False ...\n",
      "solve...\n",
      "currently working on noisy with 80% missing values\n",
      "tokenize entities...\n",
      "done\n",
      "generate candidate pairs with per_feature = True ...\n",
      "solve...\n",
      "generate candidate pairs with per_feature = False ...\n",
      "solve...\n",
      "done\n"
     ]
    }
   ],
   "source": [
    "def token_based_comparison(file_a, file_b, schema, true_matches):\n",
    "    print('tokenize entities...')\n",
    "    tok_a = tokenize_entities(file_a, schema)\n",
    "    tok_b = tokenize_entities(file_b, schema)\n",
    "    print('done')\n",
    "\n",
    "    folder, filename = os.path.split(file_a)\n",
    "    for per_feature in (True, False):\n",
    "        print(f'generate candidate pairs with per_feature = {per_feature} ...')\n",
    "        result = anonlink.candidate_generation.find_candidate_pairs(\n",
    "            (tok_a, tok_b),\n",
    "            partial(sim_fun, per_feature),\n",
    "            0.0)\n",
    "        print('solve...')\n",
    "        precisions, recalls = compute_accuracies(result, true_matches)\n",
    "        with open(os.path.join(folder, f'{filename[0:2]}_pr_{\"per_feature\" if per_feature else \"composite\"}.pkl'), 'wb') as f:\n",
    "            pickle.dump((precisions, recalls), f)\n",
    "\n",
    "the_truth = load_true_matches(os.path.join(DATA_DIR, 'PII_A.csv'), os.path.join(DATA_DIR, 'PII_B_clean.csv'))\n",
    "for folder in ('noisefree', 'noisy'):\n",
    "    for percentage in range(0, MAX_SPARSENESS+1, SPARSENESS_STEP):\n",
    "        print(f'currently working on {folder} with {percentage}% missing values')\n",
    "        token_based_comparison(os.path.join(DATA_DIR, folder, f'{percentage:02}_A.csv'), \n",
    "                               os.path.join(DATA_DIR, folder, f'{percentage:02}_B.csv'), var_k_schema, the_truth)\n",
    "print('done')"
   ]
  },
  {
   "cell_type": "markdown",
   "metadata": {},
   "source": [
    "### Quality metric\n",
    "\n",
    "We measure the quality of the linkage as the area under the precision-recall curve. A precision-recall curve is very similar to ROC, the only difference is that it does not take the true negatives into account. This is very useful in our case, as we have an imbalanced problem (the number of non-matches outweighs the number of matches by orders of magnitude), and ROC would show skewed results. Precision-recall curves are not affected by the class imbalance.\n",
    "\n",
    "The area under the precision-recall curve has a value between 0 and 1, the higher, the better.\n",
    "\n",
    "Let's first look at the results for the baselines."
   ]
  },
  {
   "cell_type": "code",
   "execution_count": 24,
   "metadata": {},
   "outputs": [
    {
     "data": {
      "image/png": "[encoded data removed]",
      "text/plain": [
       "<Figure size 432x288 with 1 Axes>"
      ]
     },
     "metadata": {
      "needs_background": "light"
     },
     "output_type": "display_data"
    },
    {
     "data": {
      "image/png": "[encoded data removed]",
      "text/plain": [
       "<Figure size 432x288 with 1 Axes>"
      ]
     },
     "metadata": {
      "needs_background": "light"
     },
     "output_type": "display_data"
    }
   ],
   "source": [
    "def print_pr_curve(folder, strategies, title):\n",
    "    x = range(0, MAX_SPARSENESS+1, SPARSENESS_STEP)\n",
    "    aucs = get_aucs(folder, strategies)\n",
    "    for k, v in aucs.items():\n",
    "        plt.plot(x, v, label=k)\n",
    "    plt.title(title)\n",
    "    plt.legend()\n",
    "    plt.xlabel('% missing data')\n",
    "    plt.ylabel('area under PR curve')\n",
    "    plt.show()\n",
    "\n",
    "print_pr_curve(os.path.join(DATA_DIR, 'noisefree'), ('composite', 'per_feature'), 'baseline - noisefree')\n",
    "print_pr_curve(os.path.join(DATA_DIR, 'noisy'), ('composite', 'per_feature'), 'baseline - noisy')"
   ]
  },
  {
   "cell_type": "markdown",
   "metadata": {},
   "source": [
    "We can see that it is advantegeous to compare the feature values separately, it produces better results for the same amount of missing data compared to the composite aproach. Surprisingly, the *composite* comparison is more resilient to noise in the data than the *per_feature* comparison as its performance is largly unaffected. The *per_feature* approach looses almost all of its advantage and the results are very similar.\n",
    "\n",
    "Let's produce the CLKs for both strategies and evaluate the linkage results over all the different datasets."
   ]
  },
  {
   "cell_type": "code",
   "execution_count": 25,
   "metadata": {},
   "outputs": [
    {
     "name": "stderr",
     "output_type": "stream",
     "text": [
      "\r",
      "generating CLKs:   0%|          | 0.00/2.00k [00:00<?, ?clk/s, mean=0, std=0]"
     ]
    },
    {
     "name": "stdout",
     "output_type": "stream",
     "text": [
      "working on folder: data2/noisy\n",
      "current schema: bits_per_token\n",
      "working on 0% missing values\n"
     ]
    },
    {
     "name": "stderr",
     "output_type": "stream",
     "text": [
      "generating CLKs: 100%|██████████| 2.00k/2.00k [00:00<00:00, 2.52kclk/s, mean=509, std=27.3]\n",
      "generating CLKs: 100%|██████████| 2.00k/2.00k [00:00<00:00, 2.61kclk/s, mean=508, std=27.9]\n",
      "generating CLKs:   0%|          | 0.00/2.00k [00:00<?, ?clk/s, mean=0, std=0]"
     ]
    },
    {
     "name": "stdout",
     "output_type": "stream",
     "text": [
      "done\n",
      "working on 5% missing values\n"
     ]
    },
    {
     "name": "stderr",
     "output_type": "stream",
     "text": [
      "generating CLKs: 100%|██████████| 2.00k/2.00k [00:00<00:00, 2.66kclk/s, mean=490, std=38.9]\n",
      "generating CLKs: 100%|██████████| 2.00k/2.00k [00:00<00:00, 2.76kclk/s, mean=489, std=39.3]\n",
      "generating CLKs:   0%|          | 0.00/2.00k [00:00<?, ?clk/s, mean=0, std=0]"
     ]
    },
    {
     "name": "stdout",
     "output_type": "stream",
     "text": [
      "done\n",
      "working on 10% missing values\n"
     ]
    },
    {
     "name": "stderr",
     "output_type": "stream",
     "text": [
      "generating CLKs: 100%|██████████| 2.00k/2.00k [00:00<00:00, 2.07kclk/s, mean=472, std=46.8]\n",
      "generating CLKs: 100%|██████████| 2.00k/2.00k [00:00<00:00, 2.59kclk/s, mean=471, std=49.5]\n",
      "generating CLKs:   0%|          | 0.00/2.00k [00:00<?, ?clk/s, mean=0, std=0]"
     ]
    },
    {
     "name": "stdout",
     "output_type": "stream",
     "text": [
      "done\n",
      "working on 15% missing values\n"
     ]
    },
    {
     "name": "stderr",
     "output_type": "stream",
     "text": [
      "generating CLKs: 100%|██████████| 2.00k/2.00k [00:00<00:00, 2.90kclk/s, mean=450, std=55.6]\n",
      "generating CLKs: 100%|██████████| 2.00k/2.00k [00:00<00:00, 2.93kclk/s, mean=450, std=55.8]\n",
      "generating CLKs:   0%|          | 0.00/2.00k [00:00<?, ?clk/s, mean=0, std=0]"
     ]
    },
    {
     "name": "stdout",
     "output_type": "stream",
     "text": [
      "done\n",
      "working on 20% missing values\n"
     ]
    },
    {
     "name": "stderr",
     "output_type": "stream",
     "text": [
      "generating CLKs: 100%|██████████| 2.00k/2.00k [00:00<00:00, 2.94kclk/s, mean=431, std=60.6]\n",
      "generating CLKs: 100%|██████████| 2.00k/2.00k [00:00<00:00, 2.84kclk/s, mean=430, std=62.1]\n",
      "generating CLKs:   0%|          | 0.00/2.00k [00:00<?, ?clk/s, mean=0, std=0]"
     ]
    },
    {
     "name": "stdout",
     "output_type": "stream",
     "text": [
      "done\n",
      "working on 25% missing values\n"
     ]
    },
    {
     "name": "stderr",
     "output_type": "stream",
     "text": [
      "generating CLKs: 100%|██████████| 2.00k/2.00k [00:00<00:00, 2.95kclk/s, mean=410, std=68.1]\n",
      "generating CLKs: 100%|██████████| 2.00k/2.00k [00:00<00:00, 3.24kclk/s, mean=409, std=67.3]\n",
      "generating CLKs:   0%|          | 0.00/2.00k [00:00<?, ?clk/s, mean=0, std=0]"
     ]
    },
    {
     "name": "stdout",
     "output_type": "stream",
     "text": [
      "done\n",
      "working on 30% missing values\n"
     ]
    },
    {
     "name": "stderr",
     "output_type": "stream",
     "text": [
      "generating CLKs: 100%|██████████| 2.00k/2.00k [00:00<00:00, 3.25kclk/s, mean=388, std=74.1]\n",
      "generating CLKs: 100%|██████████| 2.00k/2.00k [00:00<00:00, 3.44kclk/s, mean=386, std=75]  \n",
      "generating CLKs:   0%|          | 0.00/2.00k [00:00<?, ?clk/s, mean=0, std=0]"
     ]
    },
    {
     "name": "stdout",
     "output_type": "stream",
     "text": [
      "done\n",
      "working on 35% missing values\n"
     ]
    },
    {
     "name": "stderr",
     "output_type": "stream",
     "text": [
      "generating CLKs: 100%|██████████| 2.00k/2.00k [00:00<00:00, 4.13kclk/s, mean=366, std=78.2]\n",
      "generating CLKs: 100%|██████████| 2.00k/2.00k [00:00<00:00, 3.89kclk/s, mean=363, std=80.3]\n",
      "generating CLKs:   0%|          | 0.00/2.00k [00:00<?, ?clk/s, mean=0, std=0]"
     ]
    },
    {
     "name": "stdout",
     "output_type": "stream",
     "text": [
      "done\n",
      "working on 40% missing values\n"
     ]
    },
    {
     "name": "stderr",
     "output_type": "stream",
     "text": [
      "generating CLKs: 100%|██████████| 2.00k/2.00k [00:00<00:00, 4.72kclk/s, mean=342, std=81.8]\n",
      "generating CLKs: 100%|██████████| 2.00k/2.00k [00:00<00:00, 4.57kclk/s, mean=343, std=79.7]\n",
      "generating CLKs:   0%|          | 0.00/2.00k [00:00<?, ?clk/s, mean=0, std=0]"
     ]
    },
    {
     "name": "stdout",
     "output_type": "stream",
     "text": [
      "done\n",
      "working on 45% missing values\n"
     ]
    },
    {
     "name": "stderr",
     "output_type": "stream",
     "text": [
      "generating CLKs: 100%|██████████| 2.00k/2.00k [00:00<00:00, 4.95kclk/s, mean=318, std=85]  \n",
      "generating CLKs: 100%|██████████| 2.00k/2.00k [00:00<00:00, 4.95kclk/s, mean=315, std=86.8]\n",
      "generating CLKs:   0%|          | 0.00/2.00k [00:00<?, ?clk/s, mean=0, std=0]"
     ]
    },
    {
     "name": "stdout",
     "output_type": "stream",
     "text": [
      "done\n",
      "working on 50% missing values\n"
     ]
    },
    {
     "name": "stderr",
     "output_type": "stream",
     "text": [
      "generating CLKs: 100%|██████████| 2.00k/2.00k [00:00<00:00, 5.33kclk/s, mean=295, std=87.7]\n",
      "generating CLKs: 100%|██████████| 2.00k/2.00k [00:00<00:00, 5.23kclk/s, mean=293, std=89.6]\n",
      "generating CLKs:   0%|          | 0.00/2.00k [00:00<?, ?clk/s, mean=0, std=0]"
     ]
    },
    {
     "name": "stdout",
     "output_type": "stream",
     "text": [
      "done\n",
      "working on 55% missing values\n"
     ]
    },
    {
     "name": "stderr",
     "output_type": "stream",
     "text": [
      "generating CLKs: 100%|██████████| 2.00k/2.00k [00:00<00:00, 5.64kclk/s, mean=268, std=91.1]\n",
      "generating CLKs: 100%|██████████| 2.00k/2.00k [00:00<00:00, 5.66kclk/s, mean=268, std=87.4]\n",
      "generating CLKs:   0%|          | 0.00/2.00k [00:00<?, ?clk/s, mean=0, std=0]"
     ]
    },
    {
     "name": "stdout",
     "output_type": "stream",
     "text": [
      "done\n",
      "working on 60% missing values\n"
     ]
    },
    {
     "name": "stderr",
     "output_type": "stream",
     "text": [
      "generating CLKs: 100%|██████████| 2.00k/2.00k [00:00<00:00, 5.33kclk/s, mean=242, std=90.7]\n",
      "generating CLKs: 100%|██████████| 2.00k/2.00k [00:00<00:00, 4.99kclk/s, mean=242, std=90.6]\n",
      "generating CLKs:   0%|          | 0.00/2.00k [00:00<?, ?clk/s, mean=0, std=0]"
     ]
    },
    {
     "name": "stdout",
     "output_type": "stream",
     "text": [
      "done\n",
      "working on 65% missing values\n"
     ]
    },
    {
     "name": "stderr",
     "output_type": "stream",
     "text": [
      "generating CLKs: 100%|██████████| 2.00k/2.00k [00:00<00:00, 6.58kclk/s, mean=214, std=91.2]\n",
      "generating CLKs: 100%|██████████| 2.00k/2.00k [00:00<00:00, 6.92kclk/s, mean=215, std=91.3]\n",
      "generating CLKs:   0%|          | 0.00/2.00k [00:00<?, ?clk/s, mean=0, std=0]"
     ]
    },
    {
     "name": "stdout",
     "output_type": "stream",
     "text": [
      "done\n",
      "working on 70% missing values\n"
     ]
    },
    {
     "name": "stderr",
     "output_type": "stream",
     "text": [
      "generating CLKs: 100%|██████████| 2.00k/2.00k [00:00<00:00, 7.27kclk/s, mean=187, std=89.4]\n",
      "generating CLKs: 100%|██████████| 2.00k/2.00k [00:00<00:00, 7.75kclk/s, mean=185, std=88.4]\n",
      "generating CLKs:   0%|          | 0.00/2.00k [00:00<?, ?clk/s, mean=0, std=0]"
     ]
    },
    {
     "name": "stdout",
     "output_type": "stream",
     "text": [
      "done\n",
      "working on 75% missing values\n"
     ]
    },
    {
     "name": "stderr",
     "output_type": "stream",
     "text": [
      "generating CLKs: 100%|██████████| 2.00k/2.00k [00:00<00:00, 8.15kclk/s, mean=159, std=85.8]\n",
      "generating CLKs: 100%|██████████| 2.00k/2.00k [00:00<00:00, 8.47kclk/s, mean=159, std=89.7]\n",
      "generating CLKs:   0%|          | 0.00/2.00k [00:00<?, ?clk/s, mean=0, std=0]"
     ]
    },
    {
     "name": "stdout",
     "output_type": "stream",
     "text": [
      "done\n",
      "working on 80% missing values\n"
     ]
    },
    {
     "name": "stderr",
     "output_type": "stream",
     "text": [
      "generating CLKs: 100%|██████████| 2.00k/2.00k [00:00<00:00, 10.3kclk/s, mean=127, std=80.9]\n",
      "generating CLKs: 100%|██████████| 2.00k/2.00k [00:00<00:00, 10.7kclk/s, mean=128, std=82.2]\n",
      "generating CLKs:   0%|          | 0.00/2.00k [00:00<?, ?clk/s, mean=0, std=0]"
     ]
    },
    {
     "name": "stdout",
     "output_type": "stream",
     "text": [
      "done\n",
      "current schema: bits_per_feature\n",
      "working on 0% missing values\n"
     ]
    },
    {
     "name": "stderr",
     "output_type": "stream",
     "text": [
      "generating CLKs: 100%|██████████| 2.00k/2.00k [00:00<00:00, 3.32kclk/s, mean=484, std=8.7] \n",
      "generating CLKs: 100%|██████████| 2.00k/2.00k [00:00<00:00, 3.25kclk/s, mean=484, std=8.79]\n",
      "generating CLKs:   0%|          | 0.00/2.00k [00:00<?, ?clk/s, mean=0, std=0]"
     ]
    },
    {
     "name": "stdout",
     "output_type": "stream",
     "text": [
      "done\n",
      "working on 5% missing values\n"
     ]
    },
    {
     "name": "stderr",
     "output_type": "stream",
     "text": [
      "generating CLKs: 100%|██████████| 2.00k/2.00k [00:00<00:00, 3.43kclk/s, mean=466, std=25.6]\n",
      "generating CLKs: 100%|██████████| 2.00k/2.00k [00:00<00:00, 3.26kclk/s, mean=466, std=26.1]\n",
      "generating CLKs:   0%|          | 0.00/2.00k [00:00<?, ?clk/s, mean=0, std=0]"
     ]
    },
    {
     "name": "stdout",
     "output_type": "stream",
     "text": [
      "done\n",
      "working on 10% missing values\n"
     ]
    },
    {
     "name": "stderr",
     "output_type": "stream",
     "text": [
      "generating CLKs: 100%|██████████| 2.00k/2.00k [00:00<00:00, 3.58kclk/s, mean=447, std=34.2]\n",
      "generating CLKs: 100%|██████████| 2.00k/2.00k [00:00<00:00, 3.47kclk/s, mean=447, std=36.1]\n",
      "generating CLKs:   0%|          | 0.00/2.00k [00:00<?, ?clk/s, mean=0, std=0]"
     ]
    },
    {
     "name": "stdout",
     "output_type": "stream",
     "text": [
      "done\n",
      "working on 15% missing values\n"
     ]
    },
    {
     "name": "stderr",
     "output_type": "stream",
     "text": [
      "generating CLKs: 100%|██████████| 2.00k/2.00k [00:00<00:00, 3.73kclk/s, mean=428, std=42.5]\n",
      "generating CLKs: 100%|██████████| 2.00k/2.00k [00:00<00:00, 3.38kclk/s, mean=428, std=42.7]\n",
      "generating CLKs:   0%|          | 0.00/2.00k [00:00<?, ?clk/s, mean=0, std=0]"
     ]
    },
    {
     "name": "stdout",
     "output_type": "stream",
     "text": [
      "done\n",
      "working on 20% missing values\n"
     ]
    },
    {
     "name": "stderr",
     "output_type": "stream",
     "text": [
      "generating CLKs: 100%|██████████| 2.00k/2.00k [00:00<00:00, 3.96kclk/s, mean=409, std=47.1]\n",
      "generating CLKs: 100%|██████████| 2.00k/2.00k [00:00<00:00, 3.82kclk/s, mean=408, std=49]  \n",
      "generating CLKs:   0%|          | 0.00/2.00k [00:00<?, ?clk/s, mean=0, std=0]"
     ]
    },
    {
     "name": "stdout",
     "output_type": "stream",
     "text": [
      "done\n",
      "working on 25% missing values\n"
     ]
    },
    {
     "name": "stderr",
     "output_type": "stream",
     "text": [
      "generating CLKs: 100%|██████████| 2.00k/2.00k [00:00<00:00, 4.29kclk/s, mean=388, std=53]  \n",
      "generating CLKs: 100%|██████████| 2.00k/2.00k [00:00<00:00, 4.11kclk/s, mean=388, std=54.2]\n",
      "generating CLKs:   0%|          | 0.00/2.00k [00:00<?, ?clk/s, mean=0, std=0]"
     ]
    },
    {
     "name": "stdout",
     "output_type": "stream",
     "text": [
      "done\n",
      "working on 30% missing values\n"
     ]
    },
    {
     "name": "stderr",
     "output_type": "stream",
     "text": [
      "generating CLKs: 100%|██████████| 2.00k/2.00k [00:00<00:00, 4.48kclk/s, mean=367, std=60]  \n",
      "generating CLKs: 100%|██████████| 2.00k/2.00k [00:00<00:00, 4.33kclk/s, mean=367, std=60.7]\n",
      "generating CLKs:   0%|          | 0.00/2.00k [00:00<?, ?clk/s, mean=0, std=0]"
     ]
    },
    {
     "name": "stdout",
     "output_type": "stream",
     "text": [
      "done\n",
      "working on 35% missing values\n"
     ]
    },
    {
     "name": "stderr",
     "output_type": "stream",
     "text": [
      "generating CLKs: 100%|██████████| 2.00k/2.00k [00:00<00:00, 4.78kclk/s, mean=345, std=63.1]\n",
      "generating CLKs: 100%|██████████| 2.00k/2.00k [00:00<00:00, 4.64kclk/s, mean=345, std=65.3]\n",
      "generating CLKs:   0%|          | 0.00/2.00k [00:00<?, ?clk/s, mean=0, std=0]"
     ]
    },
    {
     "name": "stdout",
     "output_type": "stream",
     "text": [
      "done\n",
      "working on 40% missing values\n"
     ]
    },
    {
     "name": "stderr",
     "output_type": "stream",
     "text": [
      "generating CLKs: 100%|██████████| 2.00k/2.00k [00:00<00:00, 4.87kclk/s, mean=323, std=66]  \n",
      "generating CLKs: 100%|██████████| 2.00k/2.00k [00:00<00:00, 4.28kclk/s, mean=323, std=66.5]\n",
      "generating CLKs:   0%|          | 0.00/2.00k [00:00<?, ?clk/s, mean=0, std=0]"
     ]
    },
    {
     "name": "stdout",
     "output_type": "stream",
     "text": [
      "done\n",
      "working on 45% missing values\n"
     ]
    },
    {
     "name": "stderr",
     "output_type": "stream",
     "text": [
      "generating CLKs: 100%|██████████| 2.00k/2.00k [00:00<00:00, 5.35kclk/s, mean=301, std=70]  \n",
      "generating CLKs: 100%|██████████| 2.00k/2.00k [00:00<00:00, 5.08kclk/s, mean=300, std=72.5]\n",
      "generating CLKs:   0%|          | 0.00/2.00k [00:00<?, ?clk/s, mean=0, std=0]"
     ]
    },
    {
     "name": "stdout",
     "output_type": "stream",
     "text": [
      "done\n",
      "working on 50% missing values\n"
     ]
    },
    {
     "name": "stderr",
     "output_type": "stream",
     "text": [
      "generating CLKs: 100%|██████████| 2.00k/2.00k [00:00<00:00, 5.74kclk/s, mean=277, std=71.6]\n",
      "generating CLKs: 100%|██████████| 2.00k/2.00k [00:00<00:00, 5.37kclk/s, mean=277, std=73.7]\n",
      "generating CLKs:   0%|          | 0.00/2.00k [00:00<?, ?clk/s, mean=0, std=0]"
     ]
    },
    {
     "name": "stdout",
     "output_type": "stream",
     "text": [
      "done\n",
      "working on 55% missing values\n"
     ]
    },
    {
     "name": "stderr",
     "output_type": "stream",
     "text": [
      "generating CLKs: 100%|██████████| 2.00k/2.00k [00:00<00:00, 6.11kclk/s, mean=253, std=74.6]\n",
      "generating CLKs: 100%|██████████| 2.00k/2.00k [00:00<00:00, 5.99kclk/s, mean=253, std=70.9]\n",
      "generating CLKs:   0%|          | 0.00/2.00k [00:00<?, ?clk/s, mean=0, std=0]"
     ]
    },
    {
     "name": "stdout",
     "output_type": "stream",
     "text": [
      "done\n",
      "working on 60% missing values\n"
     ]
    },
    {
     "name": "stderr",
     "output_type": "stream",
     "text": [
      "generating CLKs: 100%|██████████| 2.00k/2.00k [00:00<00:00, 6.72kclk/s, mean=228, std=75.2]\n",
      "generating CLKs: 100%|██████████| 2.00k/2.00k [00:00<00:00, 6.44kclk/s, mean=228, std=73.5]\n",
      "generating CLKs:   0%|          | 0.00/2.00k [00:00<?, ?clk/s, mean=0, std=0]"
     ]
    },
    {
     "name": "stdout",
     "output_type": "stream",
     "text": [
      "done\n",
      "working on 65% missing values\n"
     ]
    },
    {
     "name": "stderr",
     "output_type": "stream",
     "text": [
      "generating CLKs: 100%|██████████| 2.00k/2.00k [00:00<00:00, 7.48kclk/s, mean=202, std=75.1]\n",
      "generating CLKs: 100%|██████████| 2.00k/2.00k [00:00<00:00, 7.16kclk/s, mean=202, std=75.8]\n",
      "generating CLKs:   0%|          | 0.00/2.00k [00:00<?, ?clk/s, mean=0, std=0]"
     ]
    },
    {
     "name": "stdout",
     "output_type": "stream",
     "text": [
      "done\n",
      "working on 70% missing values\n"
     ]
    },
    {
     "name": "stderr",
     "output_type": "stream",
     "text": [
      "generating CLKs: 100%|██████████| 2.00k/2.00k [00:00<00:00, 8.19kclk/s, mean=175, std=74.9]\n",
      "generating CLKs: 100%|██████████| 2.00k/2.00k [00:00<00:00, 8.02kclk/s, mean=175, std=75.5]\n",
      "generating CLKs:   0%|          | 0.00/2.00k [00:00<?, ?clk/s, mean=0, std=0]"
     ]
    },
    {
     "name": "stdout",
     "output_type": "stream",
     "text": [
      "done\n",
      "working on 75% missing values\n"
     ]
    },
    {
     "name": "stderr",
     "output_type": "stream",
     "text": [
      "generating CLKs: 100%|██████████| 2.00k/2.00k [00:00<00:00, 8.86kclk/s, mean=148, std=71.5]\n",
      "generating CLKs: 100%|██████████| 2.00k/2.00k [00:00<00:00, 9.19kclk/s, mean=148, std=75]  \n",
      "generating CLKs:   0%|          | 0.00/2.00k [00:00<?, ?clk/s, mean=0, std=0]"
     ]
    },
    {
     "name": "stdout",
     "output_type": "stream",
     "text": [
      "done\n",
      "working on 80% missing values\n"
     ]
    },
    {
     "name": "stderr",
     "output_type": "stream",
     "text": [
      "generating CLKs: 100%|██████████| 2.00k/2.00k [00:00<00:00, 10.4kclk/s, mean=120, std=66.8]\n",
      "generating CLKs: 100%|██████████| 2.00k/2.00k [00:00<00:00, 10.7kclk/s, mean=120, std=69.1]\n",
      "generating CLKs:   0%|          | 0.00/2.00k [00:00<?, ?clk/s, mean=0, std=0]"
     ]
    },
    {
     "name": "stdout",
     "output_type": "stream",
     "text": [
      "done\n",
      "working on folder: data2/noisefree\n",
      "current schema: bits_per_token\n",
      "working on 0% missing values\n"
     ]
    },
    {
     "name": "stderr",
     "output_type": "stream",
     "text": [
      "generating CLKs: 100%|██████████| 2.00k/2.00k [00:00<00:00, 3.26kclk/s, mean=509, std=27.3]\n",
      "generating CLKs: 100%|██████████| 2.00k/2.00k [00:00<00:00, 3.22kclk/s, mean=508, std=27.9]\n",
      "generating CLKs:   0%|          | 0.00/2.00k [00:00<?, ?clk/s, mean=0, std=0]"
     ]
    },
    {
     "name": "stdout",
     "output_type": "stream",
     "text": [
      "done\n",
      "working on 5% missing values\n"
     ]
    },
    {
     "name": "stderr",
     "output_type": "stream",
     "text": [
      "generating CLKs: 100%|██████████| 2.00k/2.00k [00:00<00:00, 3.33kclk/s, mean=490, std=38.9]\n",
      "generating CLKs: 100%|██████████| 2.00k/2.00k [00:00<00:00, 3.39kclk/s, mean=490, std=39]  \n",
      "generating CLKs:   0%|          | 0.00/2.00k [00:00<?, ?clk/s, mean=0, std=0]"
     ]
    },
    {
     "name": "stdout",
     "output_type": "stream",
     "text": [
      "done\n",
      "working on 10% missing values\n"
     ]
    },
    {
     "name": "stderr",
     "output_type": "stream",
     "text": [
      "generating CLKs: 100%|██████████| 2.00k/2.00k [00:00<00:00, 3.59kclk/s, mean=472, std=46.8]\n",
      "generating CLKs: 100%|██████████| 2.00k/2.00k [00:00<00:00, 3.48kclk/s, mean=471, std=48.8]\n",
      "generating CLKs:   0%|          | 0.00/2.00k [00:00<?, ?clk/s, mean=0, std=0]"
     ]
    },
    {
     "name": "stdout",
     "output_type": "stream",
     "text": [
      "done\n",
      "working on 15% missing values\n"
     ]
    },
    {
     "name": "stderr",
     "output_type": "stream",
     "text": [
      "generating CLKs: 100%|██████████| 2.00k/2.00k [00:00<00:00, 3.79kclk/s, mean=450, std=55.6]\n",
      "generating CLKs: 100%|██████████| 2.00k/2.00k [00:00<00:00, 3.61kclk/s, mean=451, std=56.7]\n",
      "generating CLKs:   0%|          | 0.00/2.00k [00:00<?, ?clk/s, mean=0, std=0]"
     ]
    },
    {
     "name": "stdout",
     "output_type": "stream",
     "text": [
      "done\n",
      "working on 20% missing values\n"
     ]
    },
    {
     "name": "stderr",
     "output_type": "stream",
     "text": [
      "generating CLKs: 100%|██████████| 2.00k/2.00k [00:00<00:00, 4.01kclk/s, mean=431, std=60.6]\n",
      "generating CLKs: 100%|██████████| 2.00k/2.00k [00:00<00:00, 3.84kclk/s, mean=430, std=62.6]\n",
      "generating CLKs:   0%|          | 0.00/2.00k [00:00<?, ?clk/s, mean=0, std=0]"
     ]
    },
    {
     "name": "stdout",
     "output_type": "stream",
     "text": [
      "done\n",
      "working on 25% missing values\n"
     ]
    },
    {
     "name": "stderr",
     "output_type": "stream",
     "text": [
      "generating CLKs: 100%|██████████| 2.00k/2.00k [00:00<00:00, 4.26kclk/s, mean=410, std=68.1]\n",
      "generating CLKs: 100%|██████████| 2.00k/2.00k [00:00<00:00, 4.06kclk/s, mean=409, std=67.9]\n",
      "generating CLKs:   0%|          | 0.00/2.00k [00:00<?, ?clk/s, mean=0, std=0]"
     ]
    },
    {
     "name": "stdout",
     "output_type": "stream",
     "text": [
      "done\n",
      "working on 30% missing values\n"
     ]
    },
    {
     "name": "stderr",
     "output_type": "stream",
     "text": [
      "generating CLKs: 100%|██████████| 2.00k/2.00k [00:00<00:00, 3.96kclk/s, mean=388, std=74.1]\n",
      "generating CLKs: 100%|██████████| 2.00k/2.00k [00:00<00:00, 4.31kclk/s, mean=389, std=74.7]\n",
      "generating CLKs:   0%|          | 0.00/2.00k [00:00<?, ?clk/s, mean=0, std=0]"
     ]
    },
    {
     "name": "stdout",
     "output_type": "stream",
     "text": [
      "done\n",
      "working on 35% missing values\n"
     ]
    },
    {
     "name": "stderr",
     "output_type": "stream",
     "text": [
      "generating CLKs: 100%|██████████| 2.00k/2.00k [00:00<00:00, 4.68kclk/s, mean=366, std=78.2]\n",
      "generating CLKs: 100%|██████████| 2.00k/2.00k [00:00<00:00, 4.49kclk/s, mean=365, std=75.4]\n",
      "generating CLKs:   0%|          | 0.00/2.00k [00:00<?, ?clk/s, mean=0, std=0]"
     ]
    },
    {
     "name": "stdout",
     "output_type": "stream",
     "text": [
      "done\n",
      "working on 40% missing values\n"
     ]
    },
    {
     "name": "stderr",
     "output_type": "stream",
     "text": [
      "generating CLKs: 100%|██████████| 2.00k/2.00k [00:00<00:00, 3.17kclk/s, mean=342, std=81.8]\n",
      "generating CLKs: 100%|██████████| 2.00k/2.00k [00:00<00:00, 4.92kclk/s, mean=341, std=83.2]\n",
      "generating CLKs:   0%|          | 0.00/2.00k [00:00<?, ?clk/s, mean=0, std=0]"
     ]
    },
    {
     "name": "stdout",
     "output_type": "stream",
     "text": [
      "done\n",
      "working on 45% missing values\n"
     ]
    },
    {
     "name": "stderr",
     "output_type": "stream",
     "text": [
      "generating CLKs: 100%|██████████| 2.00k/2.00k [00:00<00:00, 5.36kclk/s, mean=318, std=85]  \n",
      "generating CLKs: 100%|██████████| 2.00k/2.00k [00:00<00:00, 5.16kclk/s, mean=318, std=81.8]\n",
      "generating CLKs:   0%|          | 0.00/2.00k [00:00<?, ?clk/s, mean=0, std=0]"
     ]
    },
    {
     "name": "stdout",
     "output_type": "stream",
     "text": [
      "done\n",
      "working on 50% missing values\n"
     ]
    },
    {
     "name": "stderr",
     "output_type": "stream",
     "text": [
      "generating CLKs: 100%|██████████| 2.00k/2.00k [00:00<00:00, 5.53kclk/s, mean=295, std=87.7]\n",
      "generating CLKs: 100%|██████████| 2.00k/2.00k [00:00<00:00, 5.47kclk/s, mean=293, std=88.2]\n",
      "generating CLKs:   0%|          | 0.00/2.00k [00:00<?, ?clk/s, mean=0, std=0]"
     ]
    },
    {
     "name": "stdout",
     "output_type": "stream",
     "text": [
      "done\n",
      "working on 55% missing values\n"
     ]
    },
    {
     "name": "stderr",
     "output_type": "stream",
     "text": [
      "generating CLKs: 100%|██████████| 2.00k/2.00k [00:00<00:00, 6.03kclk/s, mean=268, std=91.1]\n",
      "generating CLKs: 100%|██████████| 2.00k/2.00k [00:00<00:00, 5.88kclk/s, mean=269, std=88.1]\n",
      "generating CLKs:   0%|          | 0.00/2.00k [00:00<?, ?clk/s, mean=0, std=0]"
     ]
    },
    {
     "name": "stdout",
     "output_type": "stream",
     "text": [
      "done\n",
      "working on 60% missing values\n"
     ]
    },
    {
     "name": "stderr",
     "output_type": "stream",
     "text": [
      "generating CLKs: 100%|██████████| 2.00k/2.00k [00:00<00:00, 6.64kclk/s, mean=242, std=90.7]\n",
      "generating CLKs: 100%|██████████| 2.00k/2.00k [00:00<00:00, 6.36kclk/s, mean=241, std=89.2]\n",
      "generating CLKs:   0%|          | 0.00/2.00k [00:00<?, ?clk/s, mean=0, std=0]"
     ]
    },
    {
     "name": "stdout",
     "output_type": "stream",
     "text": [
      "done\n",
      "working on 65% missing values\n"
     ]
    },
    {
     "name": "stderr",
     "output_type": "stream",
     "text": [
      "generating CLKs: 100%|██████████| 2.00k/2.00k [00:00<00:00, 7.30kclk/s, mean=214, std=91.2]\n",
      "generating CLKs: 100%|██████████| 2.00k/2.00k [00:00<00:00, 7.07kclk/s, mean=215, std=91.6]\n",
      "generating CLKs:   0%|          | 0.00/2.00k [00:00<?, ?clk/s, mean=0, std=0]"
     ]
    },
    {
     "name": "stdout",
     "output_type": "stream",
     "text": [
      "done\n",
      "working on 70% missing values\n"
     ]
    },
    {
     "name": "stderr",
     "output_type": "stream",
     "text": [
      "generating CLKs: 100%|██████████| 2.00k/2.00k [00:00<00:00, 8.07kclk/s, mean=187, std=89.4]\n",
      "generating CLKs: 100%|██████████| 2.00k/2.00k [00:00<00:00, 8.09kclk/s, mean=188, std=89.8]\n",
      "generating CLKs:   0%|          | 0.00/2.00k [00:00<?, ?clk/s, mean=0, std=0]"
     ]
    },
    {
     "name": "stdout",
     "output_type": "stream",
     "text": [
      "done\n",
      "working on 75% missing values\n"
     ]
    },
    {
     "name": "stderr",
     "output_type": "stream",
     "text": [
      "generating CLKs: 100%|██████████| 2.00k/2.00k [00:00<00:00, 8.67kclk/s, mean=159, std=85.8]\n",
      "generating CLKs: 100%|██████████| 2.00k/2.00k [00:00<00:00, 9.38kclk/s, mean=157, std=86.1]\n",
      "generating CLKs:   0%|          | 0.00/2.00k [00:00<?, ?clk/s, mean=0, std=0]"
     ]
    },
    {
     "name": "stdout",
     "output_type": "stream",
     "text": [
      "done\n",
      "working on 80% missing values\n"
     ]
    },
    {
     "name": "stderr",
     "output_type": "stream",
     "text": [
      "generating CLKs: 100%|██████████| 2.00k/2.00k [00:00<00:00, 9.54kclk/s, mean=127, std=80.9]\n",
      "generating CLKs: 100%|██████████| 2.00k/2.00k [00:00<00:00, 9.93kclk/s, mean=127, std=83.5]\n",
      "generating CLKs:   0%|          | 0.00/2.00k [00:00<?, ?clk/s, mean=0, std=0]"
     ]
    },
    {
     "name": "stdout",
     "output_type": "stream",
     "text": [
      "done\n",
      "current schema: bits_per_feature\n",
      "working on 0% missing values\n"
     ]
    },
    {
     "name": "stderr",
     "output_type": "stream",
     "text": [
      "generating CLKs: 100%|██████████| 2.00k/2.00k [00:00<00:00, 3.25kclk/s, mean=484, std=8.7] \n",
      "generating CLKs: 100%|██████████| 2.00k/2.00k [00:00<00:00, 3.21kclk/s, mean=483, std=8.63]\n",
      "generating CLKs:   0%|          | 0.00/2.00k [00:00<?, ?clk/s, mean=0, std=0]"
     ]
    },
    {
     "name": "stdout",
     "output_type": "stream",
     "text": [
      "done\n",
      "working on 5% missing values\n"
     ]
    },
    {
     "name": "stderr",
     "output_type": "stream",
     "text": [
      "generating CLKs: 100%|██████████| 2.00k/2.00k [00:00<00:00, 3.37kclk/s, mean=466, std=25.6]\n",
      "generating CLKs: 100%|██████████| 2.00k/2.00k [00:00<00:00, 3.37kclk/s, mean=466, std=25.5]\n",
      "generating CLKs:   0%|          | 0.00/2.00k [00:00<?, ?clk/s, mean=0, std=0]"
     ]
    },
    {
     "name": "stdout",
     "output_type": "stream",
     "text": [
      "done\n",
      "working on 10% missing values\n"
     ]
    },
    {
     "name": "stderr",
     "output_type": "stream",
     "text": [
      "generating CLKs: 100%|██████████| 2.00k/2.00k [00:00<00:00, 3.57kclk/s, mean=447, std=34.2]\n",
      "generating CLKs: 100%|██████████| 2.00k/2.00k [00:00<00:00, 3.51kclk/s, mean=447, std=35.4]\n",
      "generating CLKs:   0%|          | 0.00/2.00k [00:00<?, ?clk/s, mean=0, std=0]"
     ]
    },
    {
     "name": "stdout",
     "output_type": "stream",
     "text": [
      "done\n",
      "working on 15% missing values\n"
     ]
    },
    {
     "name": "stderr",
     "output_type": "stream",
     "text": [
      "generating CLKs: 100%|██████████| 2.00k/2.00k [00:00<00:00, 2.62kclk/s, mean=428, std=42.5]\n",
      "generating CLKs: 100%|██████████| 2.00k/2.00k [00:00<00:00, 3.64kclk/s, mean=428, std=43.3]\n",
      "generating CLKs:   0%|          | 0.00/2.00k [00:00<?, ?clk/s, mean=0, std=0]"
     ]
    },
    {
     "name": "stdout",
     "output_type": "stream",
     "text": [
      "done\n",
      "working on 20% missing values\n"
     ]
    },
    {
     "name": "stderr",
     "output_type": "stream",
     "text": [
      "generating CLKs: 100%|██████████| 2.00k/2.00k [00:00<00:00, 3.98kclk/s, mean=409, std=47.1]\n",
      "generating CLKs: 100%|██████████| 2.00k/2.00k [00:00<00:00, 3.84kclk/s, mean=408, std=49.7]\n",
      "generating CLKs:   0%|          | 0.00/2.00k [00:00<?, ?clk/s, mean=0, std=0]"
     ]
    },
    {
     "name": "stdout",
     "output_type": "stream",
     "text": [
      "done\n",
      "working on 25% missing values\n"
     ]
    },
    {
     "name": "stderr",
     "output_type": "stream",
     "text": [
      "generating CLKs: 100%|██████████| 2.00k/2.00k [00:00<00:00, 4.16kclk/s, mean=388, std=53]  \n",
      "generating CLKs: 100%|██████████| 2.00k/2.00k [00:00<00:00, 4.07kclk/s, mean=388, std=54]  \n",
      "generating CLKs:   0%|          | 0.00/2.00k [00:00<?, ?clk/s, mean=0, std=0]"
     ]
    },
    {
     "name": "stdout",
     "output_type": "stream",
     "text": [
      "done\n",
      "working on 30% missing values\n"
     ]
    },
    {
     "name": "stderr",
     "output_type": "stream",
     "text": [
      "generating CLKs: 100%|██████████| 2.00k/2.00k [00:00<00:00, 4.34kclk/s, mean=367, std=60]  \n",
      "generating CLKs: 100%|██████████| 2.00k/2.00k [00:00<00:00, 4.37kclk/s, mean=367, std=60]  \n",
      "generating CLKs:   0%|          | 0.00/2.00k [00:00<?, ?clk/s, mean=0, std=0]"
     ]
    },
    {
     "name": "stdout",
     "output_type": "stream",
     "text": [
      "done\n",
      "working on 35% missing values\n"
     ]
    },
    {
     "name": "stderr",
     "output_type": "stream",
     "text": [
      "generating CLKs: 100%|██████████| 2.00k/2.00k [00:00<00:00, 4.54kclk/s, mean=345, std=63.1]\n",
      "generating CLKs: 100%|██████████| 2.00k/2.00k [00:00<00:00, 4.51kclk/s, mean=346, std=62]  \n",
      "generating CLKs:   0%|          | 0.00/2.00k [00:00<?, ?clk/s, mean=0, std=0]"
     ]
    },
    {
     "name": "stdout",
     "output_type": "stream",
     "text": [
      "done\n",
      "working on 40% missing values\n"
     ]
    },
    {
     "name": "stderr",
     "output_type": "stream",
     "text": [
      "generating CLKs: 100%|██████████| 2.00k/2.00k [00:00<00:00, 5.00kclk/s, mean=323, std=66]  \n",
      "generating CLKs: 100%|██████████| 2.00k/2.00k [00:00<00:00, 4.81kclk/s, mean=323, std=67.4]\n",
      "generating CLKs:   0%|          | 0.00/2.00k [00:00<?, ?clk/s, mean=0, std=0]"
     ]
    },
    {
     "name": "stdout",
     "output_type": "stream",
     "text": [
      "done\n",
      "working on 45% missing values\n"
     ]
    },
    {
     "name": "stderr",
     "output_type": "stream",
     "text": [
      "generating CLKs: 100%|██████████| 2.00k/2.00k [00:00<00:00, 5.32kclk/s, mean=301, std=70]  \n",
      "generating CLKs: 100%|██████████| 2.00k/2.00k [00:00<00:00, 5.19kclk/s, mean=300, std=69]  \n",
      "generating CLKs:   0%|          | 0.00/2.00k [00:00<?, ?clk/s, mean=0, std=0]"
     ]
    },
    {
     "name": "stdout",
     "output_type": "stream",
     "text": [
      "done\n",
      "working on 50% missing values\n"
     ]
    },
    {
     "name": "stderr",
     "output_type": "stream",
     "text": [
      "generating CLKs: 100%|██████████| 2.00k/2.00k [00:00<00:00, 5.68kclk/s, mean=277, std=71.6]\n",
      "generating CLKs: 100%|██████████| 2.00k/2.00k [00:00<00:00, 5.48kclk/s, mean=277, std=71.4]\n",
      "generating CLKs:   0%|          | 0.00/2.00k [00:00<?, ?clk/s, mean=0, std=0]"
     ]
    },
    {
     "name": "stdout",
     "output_type": "stream",
     "text": [
      "done\n",
      "working on 55% missing values\n"
     ]
    },
    {
     "name": "stderr",
     "output_type": "stream",
     "text": [
      "generating CLKs: 100%|██████████| 2.00k/2.00k [00:00<00:00, 5.92kclk/s, mean=253, std=74.6]\n",
      "generating CLKs: 100%|██████████| 2.00k/2.00k [00:00<00:00, 5.91kclk/s, mean=253, std=73.8]\n",
      "generating CLKs:   0%|          | 0.00/2.00k [00:00<?, ?clk/s, mean=0, std=0]"
     ]
    },
    {
     "name": "stdout",
     "output_type": "stream",
     "text": [
      "done\n",
      "working on 60% missing values\n"
     ]
    },
    {
     "name": "stderr",
     "output_type": "stream",
     "text": [
      "generating CLKs: 100%|██████████| 2.00k/2.00k [00:00<00:00, 6.47kclk/s, mean=228, std=75.2]\n",
      "generating CLKs: 100%|██████████| 2.00k/2.00k [00:00<00:00, 6.27kclk/s, mean=228, std=74.2]\n",
      "generating CLKs:   0%|          | 0.00/2.00k [00:00<?, ?clk/s, mean=0, std=0]"
     ]
    },
    {
     "name": "stdout",
     "output_type": "stream",
     "text": [
      "done\n",
      "working on 65% missing values\n"
     ]
    },
    {
     "name": "stderr",
     "output_type": "stream",
     "text": [
      "generating CLKs: 100%|██████████| 2.00k/2.00k [00:00<00:00, 7.31kclk/s, mean=202, std=75.1]\n",
      "generating CLKs: 100%|██████████| 2.00k/2.00k [00:00<00:00, 7.01kclk/s, mean=202, std=75.4]\n",
      "generating CLKs:   0%|          | 0.00/2.00k [00:00<?, ?clk/s, mean=0, std=0]"
     ]
    },
    {
     "name": "stdout",
     "output_type": "stream",
     "text": [
      "done\n",
      "working on 70% missing values\n"
     ]
    },
    {
     "name": "stderr",
     "output_type": "stream",
     "text": [
      "generating CLKs: 100%|██████████| 2.00k/2.00k [00:00<00:00, 7.87kclk/s, mean=175, std=74.9]\n",
      "generating CLKs: 100%|██████████| 2.00k/2.00k [00:00<00:00, 8.13kclk/s, mean=175, std=75.5]\n",
      "generating CLKs:   0%|          | 0.00/2.00k [00:00<?, ?clk/s, mean=0, std=0]"
     ]
    },
    {
     "name": "stdout",
     "output_type": "stream",
     "text": [
      "done\n",
      "working on 75% missing values\n"
     ]
    },
    {
     "name": "stderr",
     "output_type": "stream",
     "text": [
      "generating CLKs: 100%|██████████| 2.00k/2.00k [00:00<00:00, 8.77kclk/s, mean=148, std=71.5]\n",
      "generating CLKs: 100%|██████████| 2.00k/2.00k [00:00<00:00, 9.15kclk/s, mean=148, std=72.3]\n",
      "generating CLKs:   0%|          | 0.00/2.00k [00:00<?, ?clk/s, mean=0, std=0]"
     ]
    },
    {
     "name": "stdout",
     "output_type": "stream",
     "text": [
      "done\n",
      "working on 80% missing values\n"
     ]
    },
    {
     "name": "stderr",
     "output_type": "stream",
     "text": [
      "generating CLKs: 100%|██████████| 2.00k/2.00k [00:00<00:00, 10.1kclk/s, mean=120, std=66.8]\n",
      "generating CLKs: 100%|██████████| 2.00k/2.00k [00:00<00:00, 10.6kclk/s, mean=120, std=69.5]\n"
     ]
    },
    {
     "name": "stdout",
     "output_type": "stream",
     "text": [
      "done\n"
     ]
    }
   ],
   "source": [
    "schema_dict = {'bits_per_token': fixed_k_schema,\n",
    "               'bits_per_feature': var_k_schema}\n",
    "\n",
    "def run_series(folder, schema_dict, true_matches):\n",
    "    for label, schema in schema_dict.items():\n",
    "        print(f'current schema: {label}')\n",
    "        for i in range(0, MAX_SPARSENESS+1, SPARSENESS_STEP):\n",
    "            print(f'working on {i}% missing values')\n",
    "            ds1 = os.path.join(folder, f'{i:02}_A.csv')\n",
    "            ds2 = os.path.join(folder, f'{i:02}_B.csv')\n",
    "            clks_a = generate_clks(ds1, schema)\n",
    "            clks_b = generate_clks(ds2, schema)\n",
    "            precisions, recalls = pr_curve_from_clks(clks_a, clks_b, 0, true_matches)\n",
    "            res_file = os.path.join(folder, f'{i:02}_pr_{label}.pkl')\n",
    "            with open(res_file, 'wb') as f:\n",
    "                pickle.dump((precisions, recalls), f)\n",
    "            print('done')\n",
    "\n",
    "true_matches = load_true_matches(os.path.join(DATA_DIR, 'PII_A.csv'), os.path.join(DATA_DIR,'PII_B_clean.csv'))\n",
    "for folder in (os.path.join(DATA_DIR, 'noisy'), os.path.join(DATA_DIR, 'noisefree')):\n",
    "    print(f'working on folder: {folder}')\n",
    "    run_series(folder, schema_dict, true_matches)"
   ]
  },
  {
   "cell_type": "markdown",
   "metadata": {},
   "source": [
    "### Results\n",
    "It's time to compare the linkage quality of the CLKs to the two baselines from before. For both, the noisefree and the noisy dataset we create a graph where we compare \n",
    "the two baselines:\n",
    "- 'per_feature' - averaged feature-wise token comparison\n",
    "- 'composite' - comparison of the combined tokens of all features\n",
    "\n",
    "to the two CLK encoding strategies:\n",
    "- 'bits_per_token' - Insert every token bitsPerToken number of times.\n",
    "- 'bits_per_feature'- Same number of insertions for each value of this feature.\n"
   ]
  },
  {
   "cell_type": "code",
   "execution_count": 27,
   "metadata": {
    "scrolled": true
   },
   "outputs": [
    {
     "data": {
      "image/png": "[encoded data removed]",
      "text/plain": [
       "<Figure size 432x288 with 1 Axes>"
      ]
     },
     "metadata": {
      "needs_background": "light"
     },
     "output_type": "display_data"
    },
    {
     "data": {
      "image/png": "[encoded data removed]",
      "text/plain": [
       "<Figure size 432x288 with 1 Axes>"
      ]
     },
     "metadata": {
      "needs_background": "light"
     },
     "output_type": "display_data"
    }
   ],
   "source": [
    "print_pr_curve(os.path.join(DATA_DIR, 'noisefree'), ('composite', 'per_feature', 'bits_per_token', 'bits_per_feature'), 'noisefree dataset')\n",
    "print_pr_curve(os.path.join(DATA_DIR, 'noisy'), ('composite', 'per_feature', 'bits_per_token', 'bits_per_feature'), 'noisy dataset')"
   ]
  },
  {
   "cell_type": "markdown",
   "metadata": {},
   "source": [
    "### Conclusions\n",
    "The CLK-based linkage results are very close to the ones from the *composite* comparison technique (that's the comparison of the sets of tokens of the records).\n",
    "\n",
    "Interestingly, the *bits_per_feature* strategy performs slightly better than the *bits_per_token* strategy for data sparseness of up to 55%. This is somewhat surprising, as the *bits_per_token* strategy more closely resembles the *composite* comparison technique.\n",
    "\n",
    "The ability to compare feature values separately enables better comparison results for the same level of data sparseness. In the noisefree case, the *per_feature* comparison produces similar results to the composite techiques for data with up to 15% less data points. However, this advantage almost disappears once noise is added to the dataset.\n",
    "\n",
    "For this dataset, anonlink can handle up to 20% missing data without any degredation in linkage quality. The quality will decrease sharply for data sparseness over 30%."
   ]
  },
  {
   "cell_type": "markdown",
   "metadata": {},
   "source": []
  }
 ],
 "metadata": {
  "kernelspec": {
   "display_name": "Python 3",
   "language": "python",
   "name": "python3"
  },
  "language_info": {
   "codemirror_mode": {
    "name": "ipython",
    "version": 3
   },
   "file_extension": ".py",
   "mimetype": "text/x-python",
   "name": "python",
   "nbconvert_exporter": "python",
   "pygments_lexer": "ipython3",
   "version": "3.7.4"
  },
  "pycharm": {
   "stem_cell": {
    "cell_type": "raw",
    "metadata": {
     "collapsed": false
    },
    "source": []
   }
  }
 },
 "nbformat": 4,
 "nbformat_minor": 1
}
